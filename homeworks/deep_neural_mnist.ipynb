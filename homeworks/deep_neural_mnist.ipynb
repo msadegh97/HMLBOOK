{
 "cells": [
  {
   "cell_type": "code",
   "execution_count": 1,
   "metadata": {
    "collapsed": true
   },
   "outputs": [],
   "source": [
    "import tensorflow as tf\n",
    "from tensorflow.examples.tutorials.mnist import input_data"
   ]
  },
  {
   "cell_type": "code",
   "execution_count": 2,
   "metadata": {},
   "outputs": [
    {
     "name": "stdout",
     "output_type": "stream",
     "text": [
      "Extracting Datasets/MNIST/train-images-idx3-ubyte.gz\n",
      "Extracting Datasets/MNIST/train-labels-idx1-ubyte.gz\n",
      "Extracting Datasets/MNIST/t10k-images-idx3-ubyte.gz\n",
      "Extracting Datasets/MNIST/t10k-labels-idx1-ubyte.gz\n"
     ]
    }
   ],
   "source": [
    "mnist = input_data.read_data_sets(\"../Datasets/MNIST/\", one_hot=True)"
   ]
  },
  {
   "cell_type": "code",
   "execution_count": 3,
   "metadata": {},
   "outputs": [
    {
     "name": "stdout",
     "output_type": "stream",
     "text": [
      "MNIST traininig set images: (55000, 784)\n",
      "MNIST traininig set labels: (55000, 10)\n",
      "MNIST test set images: (10000, 784)\n",
      "MNIST test set labels: (10000, 10)\n"
     ]
    }
   ],
   "source": [
    "print('MNIST traininig set images:', mnist.train.images.shape)\n",
    "print('MNIST traininig set labels:', mnist.train.labels.shape)\n",
    "print('MNIST test set images:', mnist.test.images.shape)\n",
    "print('MNIST test set labels:', mnist.test.labels.shape)"
   ]
  },
  {
   "cell_type": "code",
   "execution_count": 4,
   "metadata": {
    "collapsed": true
   },
   "outputs": [],
   "source": [
    "#define the neural net\n",
    "n_1 = 100\n",
    "n_2 = 10\n",
    "batch_size = 100"
   ]
  },
  {
   "cell_type": "code",
   "execution_count": 5,
   "metadata": {
    "collapsed": true
   },
   "outputs": [],
   "source": [
    "X = tf.placeholder('float', [None, 784])\n",
    "y = tf.placeholder('float')"
   ]
  },
  {
   "cell_type": "code",
   "execution_count": 6,
   "metadata": {
    "collapsed": true
   },
   "outputs": [],
   "source": [
    "def neural_net_model(X):\n",
    "    W1 = tf.Variable(tf.random_normal([784, n_1]))\n",
    "    b1 = tf.Variable(tf.random_normal([n_1]))\n",
    "    \n",
    "    W2 = tf.Variable(tf.random_normal([n_1, n_2]))\n",
    "    b2 = tf.Variable(tf.random_normal([n_2]))\n",
    "    \n",
    "    Z1 = tf.matmul(X, W1) + b1\n",
    "    A1 = tf.nn.relu(Z1)\n",
    "    \n",
    "    Z2 = tf.matmul(A1, W2) + b2\n",
    "    \n",
    "    return Z2"
   ]
  },
  {
   "cell_type": "code",
   "execution_count": 11,
   "metadata": {
    "collapsed": true
   },
   "outputs": [],
   "source": [
    "def train_neural_network(X):\n",
    "    y_ = neural_net_model(X)\n",
    "    cost = tf.reduce_mean(tf.nn.softmax_cross_entropy_with_logits(\n",
    "        logits=y_, labels=y))\n",
    "    optimizer = tf.train.AdamOptimizer(learning_rate=0.001).minimize(\n",
    "        cost)\n",
    "    \n",
    "    num_epochs = 50\n",
    "    \n",
    "    with tf.Session() as session:\n",
    "        session.run(tf.global_variables_initializer())\n",
    "        \n",
    "        for epoch in range(num_epochs):\n",
    "            epoch_loss=0\n",
    "            \n",
    "            for i in range(mnist.train.num_examples // batch_size):\n",
    "                ex , ey = mnist.train.next_batch(batch_size)\n",
    "                _, c = session.run([optimizer, cost], feed_dict={\n",
    "                    X: ex, y: ey})    \n",
    "                epoch_loss += c\n",
    "                \n",
    "            print('Epoch', epoch, '/', num_epochs, 'loss', epoch_loss)\n",
    "        \n",
    "        correct = tf.equal(tf.argmax(y_, 1), tf.argmax(y, 1))\n",
    "        accuracy = tf.reduce_mean(tf.cast(correct, 'float'))\n",
    "        print('Accuracy:', accuracy.eval({X: mnist.test.images,\n",
    "                                          y: mnist.test.labels}))"
   ]
  },
  {
   "cell_type": "code",
   "execution_count": 12,
   "metadata": {},
   "outputs": [
    {
     "name": "stdout",
     "output_type": "stream",
     "text": [
      "Epoch 0 / 50 loss 11327.8911083\n",
      "Epoch 1 / 50 loss 2468.31120396\n",
      "Epoch 2 / 50 loss 1620.01331177\n",
      "Epoch 3 / 50 loss 1212.80015841\n",
      "Epoch 4 / 50 loss 966.119965628\n",
      "Epoch 5 / 50 loss 794.298366524\n",
      "Epoch 6 / 50 loss 668.586895261\n",
      "Epoch 7 / 50 loss 569.185600482\n",
      "Epoch 8 / 50 loss 489.69756758\n",
      "Epoch 9 / 50 loss 422.509947735\n",
      "Epoch 10 / 50 loss 367.728823163\n",
      "Epoch 11 / 50 loss 320.247648891\n",
      "Epoch 12 / 50 loss 281.808742669\n",
      "Epoch 13 / 50 loss 248.236684531\n",
      "Epoch 14 / 50 loss 218.806274018\n",
      "Epoch 15 / 50 loss 193.697556652\n",
      "Epoch 16 / 50 loss 171.586835374\n",
      "Epoch 17 / 50 loss 152.455200034\n",
      "Epoch 18 / 50 loss 134.983071653\n",
      "Epoch 19 / 50 loss 120.163487326\n",
      "Epoch 20 / 50 loss 106.763981999\n",
      "Epoch 21 / 50 loss 94.3795946984\n",
      "Epoch 22 / 50 loss 84.2924697781\n",
      "Epoch 23 / 50 loss 74.0250246499\n",
      "Epoch 24 / 50 loss 67.4630546325\n",
      "Epoch 25 / 50 loss 59.8408673078\n",
      "Epoch 26 / 50 loss 53.3330634968\n",
      "Epoch 27 / 50 loss 47.699119626\n",
      "Epoch 28 / 50 loss 42.1673633164\n",
      "Epoch 29 / 50 loss 37.7393258693\n",
      "Epoch 30 / 50 loss 33.9136206851\n",
      "Epoch 31 / 50 loss 30.3999313523\n",
      "Epoch 32 / 50 loss 25.9128826809\n",
      "Epoch 33 / 50 loss 23.7119988474\n",
      "Epoch 34 / 50 loss 21.0407776485\n",
      "Epoch 35 / 50 loss 19.1104371544\n",
      "Epoch 36 / 50 loss 17.1273262296\n",
      "Epoch 37 / 50 loss 14.9561727709\n",
      "Epoch 38 / 50 loss 12.7273364051\n",
      "Epoch 39 / 50 loss 11.5810692544\n",
      "Epoch 40 / 50 loss 10.1987457536\n",
      "Epoch 41 / 50 loss 9.52566082914\n",
      "Epoch 42 / 50 loss 7.90401929247\n",
      "Epoch 43 / 50 loss 7.38633174911\n",
      "Epoch 44 / 50 loss 5.75961560563\n",
      "Epoch 45 / 50 loss 5.19252674716\n",
      "Epoch 46 / 50 loss 5.44796222748\n",
      "Epoch 47 / 50 loss 4.3318664981\n",
      "Epoch 48 / 50 loss 4.10958547908\n",
      "Epoch 49 / 50 loss 3.66447401663\n",
      "Accuracy: 0.9501\n"
     ]
    }
   ],
   "source": [
    "train_neural_network(X)"
   ]
  },
  {
   "cell_type": "code",
   "execution_count": null,
   "metadata": {
    "collapsed": true
   },
   "outputs": [],
   "source": []
  },
  {
   "cell_type": "code",
   "execution_count": null,
   "metadata": {
    "collapsed": true
   },
   "outputs": [],
   "source": []
  }
 ],
 "metadata": {
  "kernelspec": {
   "display_name": "Python 3",
   "language": "python",
   "name": "python3"
  },
  "language_info": {
   "codemirror_mode": {
    "name": "ipython",
    "version": 3
   },
   "file_extension": ".py",
   "mimetype": "text/x-python",
   "name": "python",
   "nbconvert_exporter": "python",
   "pygments_lexer": "ipython3",
   "version": "3.5.2"
  }
 },
 "nbformat": 4,
 "nbformat_minor": 2
}
